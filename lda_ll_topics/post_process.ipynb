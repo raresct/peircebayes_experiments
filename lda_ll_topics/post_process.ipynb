{
 "cells": [
  {
   "cell_type": "code",
   "execution_count": 13,
   "metadata": {
    "collapsed": true
   },
   "outputs": [],
   "source": [
    "import numpy as np\n",
    "import matplotlib.pyplot as plt\n",
    "import pickle\n",
    "from scipy import stats\n",
    "%matplotlib inline"
   ]
  },
  {
   "cell_type": "code",
   "execution_count": 14,
   "metadata": {
    "collapsed": false
   },
   "outputs": [],
   "source": [
    "topics, metrics = pickle.load(open('data/run_result.pkl', 'r'))"
   ]
  },
  {
   "cell_type": "code",
   "execution_count": 15,
   "metadata": {
    "collapsed": false
   },
   "outputs": [
    {
     "name": "stdout",
     "output_type": "stream",
     "text": [
      "seed, method, topic\n",
      "(10, 5, 5)\n",
      "(5,)\n"
     ]
    }
   ],
   "source": [
    "topics = np.array(topics)\n",
    "metrics = np.array(metrics)\n",
    "print 'seed, method, topic'\n",
    "print metrics.shape\n",
    "print topics.shape"
   ]
  },
  {
   "cell_type": "code",
   "execution_count": 16,
   "metadata": {
    "collapsed": true
   },
   "outputs": [],
   "source": [
    "labels = ['pb', 'stan', 'prism', 'tm-gibbs', 'tm-vem']"
   ]
  },
  {
   "cell_type": "code",
   "execution_count": 17,
   "metadata": {
    "collapsed": false
   },
   "outputs": [],
   "source": [
    "metrics = {labels[i]:metrics[:,i,:] for i in range(5)}"
   ]
  },
  {
   "cell_type": "code",
   "execution_count": 18,
   "metadata": {
    "collapsed": false
   },
   "outputs": [
    {
     "data": {
      "text/plain": [
       "(5,)"
      ]
     },
     "execution_count": 18,
     "metadata": {},
     "output_type": "execute_result"
    }
   ],
   "source": [
    "metrics['pb'][0].shape"
   ]
  },
  {
   "cell_type": "code",
   "execution_count": 19,
   "metadata": {
    "collapsed": false
   },
   "outputs": [
    {
     "data": {
      "text/plain": [
       "array([-249781.19836277, -222909.41612791, -196094.564582  ,\n",
       "       -199039.3243122 , -199098.89257075])"
      ]
     },
     "execution_count": 19,
     "metadata": {},
     "output_type": "execute_result"
    }
   ],
   "source": [
    "metrics['pb'][0]"
   ]
  },
  {
   "cell_type": "code",
   "execution_count": 20,
   "metadata": {
    "collapsed": false
   },
   "outputs": [
    {
     "data": {
      "text/plain": [
       "array([-251262.6364721 , -222338.66192144, -198245.59624431,\n",
       "       -199951.47805802, -199495.19531453])"
      ]
     },
     "execution_count": 20,
     "metadata": {},
     "output_type": "execute_result"
    }
   ],
   "source": [
    "np.average(metrics['pb'], axis=0)"
   ]
  },
  {
   "cell_type": "code",
   "execution_count": 21,
   "metadata": {
    "collapsed": false
   },
   "outputs": [],
   "source": [
    "#for k,v in times_metrics.iteritems():\n",
    "#    print k\n",
    "#    print np.average(v[0], axis=0)\n",
    "#    print np.std(v[0], axis=0)\n",
    "#    print np.average(v[1], axis=0)\n",
    "#    print np.std(v[1], axis=0)"
   ]
  },
  {
   "cell_type": "code",
   "execution_count": 22,
   "metadata": {
    "collapsed": false
   },
   "outputs": [
    {
     "data": {
      "image/png": "[encoded data removed]",
      "text/plain": [
       "<matplotlib.figure.Figure at 0x7f29d22bb790>"
      ]
     },
     "metadata": {},
     "output_type": "display_data"
    }
   ],
   "source": [
    "plt.xlabel('Topics')\n",
    "plt.ylabel('Intrinsic Metric')\n",
    "plt.grid()\n",
    "colors = ['r', 'g', 'b', 'y', 'm']\n",
    "for c, (k,v) in zip(colors, metrics.iteritems()):\n",
    "    x = topics\n",
    "    #print x.shape\n",
    "    y = np.average(v, axis=0)\n",
    "    y_err = stats.sem(v)\n",
    "    #print y_err.shape\n",
    "    #plt.plot(x, y, color=c, label=k, marker='o')\n",
    "    #plt.fill_between(x, y-y_err, y+y_err, color=c, alpha=0.3)\n",
    "    plt.errorbar(x,y, yerr = y_err, color=c, label=k, marker='o')\n",
    "    \n",
    "lgd = plt.legend(ncol=3, bbox_to_anchor=(1, 1.25))\n",
    "plt.savefig('data/lls.pdf', format='pdf', bbox_extra_artists=(lgd,), bbox_inches='tight')"
   ]
  },
  {
   "cell_type": "code",
   "execution_count": null,
   "metadata": {
    "collapsed": true
   },
   "outputs": [],
   "source": []
  }
 ],
 "metadata": {
  "kernelspec": {
   "display_name": "Python 2",
   "language": "python2",
   "name": "python2"
  },
  "language_info": {
   "codemirror_mode": {
    "name": "ipython",
    "version": 2
   },
   "file_extension": ".py",
   "mimetype": "text/x-python",
   "name": "python",
   "nbconvert_exporter": "python",
   "pygments_lexer": "ipython2",
   "version": "2.7.10"
  }
 },
 "nbformat": 4,
 "nbformat_minor": 0
}
