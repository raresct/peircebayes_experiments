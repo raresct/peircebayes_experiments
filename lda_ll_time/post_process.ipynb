{
 "cells": [
  {
   "cell_type": "code",
   "execution_count": 2,
   "metadata": {
    "collapsed": true
   },
   "outputs": [],
   "source": [
    "import numpy as np\n",
    "import matplotlib.pyplot as plt\n",
    "import pickle\n",
    "from scipy import stats\n",
    "%matplotlib inline"
   ]
  },
  {
   "cell_type": "code",
   "execution_count": 3,
   "metadata": {
    "collapsed": false
   },
   "outputs": [],
   "source": [
    "times, metrics = pickle.load(open('data/run_result.pkl', 'r'))"
   ]
  },
  {
   "cell_type": "code",
   "execution_count": 4,
   "metadata": {
    "collapsed": false
   },
   "outputs": [
    {
     "name": "stdout",
     "output_type": "stream",
     "text": [
      "seed, method, iter\n",
      "(10, 5, 4)\n",
      "(10, 5, 4)\n"
     ]
    }
   ],
   "source": [
    "times = np.array(times)\n",
    "metrics = np.array(metrics)\n",
    "print 'seed, method, iter'\n",
    "print times.shape\n",
    "print metrics.shape"
   ]
  },
  {
   "cell_type": "code",
   "execution_count": 5,
   "metadata": {
    "collapsed": true
   },
   "outputs": [],
   "source": [
    "labels = ['pb', 'stan', 'prism', 'tm-gibbs', 'tm-vem']"
   ]
  },
  {
   "cell_type": "code",
   "execution_count": 6,
   "metadata": {
    "collapsed": true
   },
   "outputs": [],
   "source": [
    "times_metrics = {labels[i]:(times[:,i,:], metrics[:,i,:]) for i in range(5)}"
   ]
  },
  {
   "cell_type": "code",
   "execution_count": 7,
   "metadata": {
    "collapsed": false
   },
   "outputs": [
    {
     "data": {
      "text/plain": [
       "(10, 4)"
      ]
     },
     "execution_count": 7,
     "metadata": {},
     "output_type": "execute_result"
    }
   ],
   "source": [
    "times_metrics['pb'][0].shape"
   ]
  },
  {
   "cell_type": "code",
   "execution_count": 8,
   "metadata": {
    "collapsed": false
   },
   "outputs": [
    {
     "name": "stdout",
     "output_type": "stream",
     "text": [
      "pb\n",
      "[  46.63011296   85.47033861  124.12597418  163.28188794]\n",
      "[ 2.87711494  5.01849487  6.29533374  7.48588013]\n",
      "[-239409.78149046 -209608.88189223 -199766.77240726 -198245.59624431]\n",
      "[ 4561.40603674  5164.06177496  3798.49171832  2060.2210471 ]\n",
      "stan\n",
      "[  42.73691273   87.31041589  193.47301047  493.61230607]\n",
      "[   3.22922385   31.85694635  101.71124377  115.00087568]\n",
      "[-359001.80906083 -348160.63798204 -339299.92158139 -334879.2993493 ]\n",
      "[ 1939.57830782  2608.05467974  3069.22029798   306.27246387]\n",
      "prism\n",
      "[ 2.97478302  3.68106649  4.55082023  5.23654292]\n",
      "[ 0.15328967  0.15249829  0.26224263  0.15318483]\n",
      "[-318561.9 -315950.6 -315781.1 -315692.8]\n",
      "[ 484.70639567  338.60011813  311.42621919  314.82083794]\n",
      "tm-gibbs\n",
      "[ 0.74482939  1.04496837  1.32741439  1.61226728]\n",
      "[ 0.02932603  0.04981816  0.03169597  0.03484137]\n",
      "[-259417.12794208 -213641.98258599 -203580.52238531 -198355.16376672]\n",
      "[ 3261.52684462  6475.45621006  5420.56451532  2719.93796036]\n",
      "tm-vem\n",
      "[  5.99620683   7.32971108   8.81279302  10.34047596]\n",
      "[ 0.97348893  2.11307212  3.26443152  4.48373091]\n",
      "[-321321.53095785 -320315.85519401 -319306.47754052 -318628.01593846]\n",
      "[ 1294.48345142  2085.31848591  2561.17192278  2958.30804974]\n"
     ]
    }
   ],
   "source": [
    "for k,v in times_metrics.iteritems():\n",
    "    print k\n",
    "    print np.average(v[0], axis=0)\n",
    "    print np.std(v[0], axis=0)\n",
    "    print np.average(v[1], axis=0)\n",
    "    print np.std(v[1], axis=0)"
   ]
  },
  {
   "cell_type": "code",
   "execution_count": 9,
   "metadata": {
    "collapsed": false
   },
   "outputs": [
    {
     "data": {
      "image/png": "[encoded data removed]",
      "text/plain": [
       "<matplotlib.figure.Figure at 0x7fa8339b4fd0>"
      ]
     },
     "metadata": {},
     "output_type": "display_data"
    }
   ],
   "source": [
    "plt.xlabel('Time')\n",
    "plt.ylabel('Intrinsic Metric')\n",
    "plt.grid()\n",
    "colors = ['r', 'g', 'b', 'y', 'm']\n",
    "for c, (k,v) in zip(colors, times_metrics.iteritems()):\n",
    "    x = np.average(v[0], axis=0)\n",
    "    #print x.shape\n",
    "    y = np.average(v[1], axis=0)\n",
    "    y_err = stats.sem(v[1])\n",
    "    #print y_err.shape\n",
    "    #plt.semilogx(x, y, color=c, label=k)\n",
    "    #plt.fill_between(x, y-y_err, y+y_err, color=c, alpha=0.3)\n",
    "    plt.errorbar(x,y, yerr = y_err, color=c, label=k, marker='o')\n",
    "    plt.xscale(\"log\")\n",
    "lgd = plt.legend(ncol=3, bbox_to_anchor=(1, 1.25))\n",
    "plt.savefig('data/lls.pdf', format='pdf', bbox_extra_artists=(lgd,), bbox_inches='tight')"
   ]
  },
  {
   "cell_type": "code",
   "execution_count": null,
   "metadata": {
    "collapsed": true
   },
   "outputs": [],
   "source": []
  }
 ],
 "metadata": {
  "kernelspec": {
   "display_name": "Python 2",
   "language": "python2",
   "name": "python2"
  },
  "language_info": {
   "codemirror_mode": {
    "name": "ipython",
    "version": 2
   },
   "file_extension": ".py",
   "mimetype": "text/x-python",
   "name": "python",
   "nbconvert_exporter": "python",
   "pygments_lexer": "ipython2",
   "version": "2.7.10"
  }
 },
 "nbformat": 4,
 "nbformat_minor": 0
}
