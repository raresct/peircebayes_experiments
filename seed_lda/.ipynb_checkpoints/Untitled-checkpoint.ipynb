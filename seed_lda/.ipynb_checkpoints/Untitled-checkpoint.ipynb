{
 "cells": [
  {
   "cell_type": "code",
   "execution_count": 65,
   "metadata": {
    "collapsed": false
   },
   "outputs": [],
   "source": [
    "import pickle\n",
    "import numpy as np\n",
    "from pprint import pprint\n",
    "from wordcloud import WordCloud\n",
    "import matplotlib.pyplot as plt\n",
    "import random\n",
    "import ast\n",
    "from tabulate import tabulate\n",
    "%matplotlib inline"
   ]
  },
  {
   "cell_type": "code",
   "execution_count": 2,
   "metadata": {
    "collapsed": true
   },
   "outputs": [],
   "source": [
    "###\n",
    "# Inspect phi\n",
    "###"
   ]
  },
  {
   "cell_type": "code",
   "execution_count": 18,
   "metadata": {
    "collapsed": false
   },
   "outputs": [
    {
     "ename": "IOError",
     "evalue": "[Errno 2] No such file or directory: 'clda_data/avg_samples.npz'",
     "output_type": "error",
     "traceback": [
      "\u001b[1;31m---------------------------------------------------------------------------\u001b[0m",
      "\u001b[1;31mIOError\u001b[0m                                   Traceback (most recent call last)",
      "\u001b[1;32m<ipython-input-18-cee379ee621a>\u001b[0m in \u001b[0;36m<module>\u001b[1;34m()\u001b[0m\n\u001b[1;32m----> 1\u001b[1;33m \u001b[0mtheta_pb\u001b[0m \u001b[1;33m=\u001b[0m \u001b[0mnp\u001b[0m\u001b[1;33m.\u001b[0m\u001b[0mload\u001b[0m\u001b[1;33m(\u001b[0m\u001b[1;34m'clda_data/avg_samples.npz'\u001b[0m\u001b[1;33m)\u001b[0m\u001b[1;33m\u001b[0m\u001b[0m\n\u001b[0m\u001b[0;32m      2\u001b[0m \u001b[0mphi\u001b[0m \u001b[1;33m=\u001b[0m \u001b[0mtheta_pb\u001b[0m\u001b[1;33m[\u001b[0m\u001b[1;34m'arr_1'\u001b[0m\u001b[1;33m]\u001b[0m\u001b[1;33m\u001b[0m\u001b[0m\n\u001b[0;32m      3\u001b[0m \u001b[1;31m#with open('data/out_prism_0', 'r') as fin:\u001b[0m\u001b[1;33m\u001b[0m\u001b[1;33m\u001b[0m\u001b[0m\n\u001b[0;32m      4\u001b[0m \u001b[1;31m#with open('clda_data/out_prism', 'r') as fin:\u001b[0m\u001b[1;33m\u001b[0m\u001b[1;33m\u001b[0m\u001b[0m\n\u001b[0;32m      5\u001b[0m \u001b[1;31m#        phi = [np.array(ast.literal_eval(line.strip())) for line in fin]\u001b[0m\u001b[1;33m\u001b[0m\u001b[1;33m\u001b[0m\u001b[0m\n",
      "\u001b[1;32m/usr/local/lib/python2.7/dist-packages/numpy/lib/npyio.pyc\u001b[0m in \u001b[0;36mload\u001b[1;34m(file, mmap_mode, allow_pickle, fix_imports, encoding)\u001b[0m\n\u001b[0;32m    360\u001b[0m     \u001b[0mown_fid\u001b[0m \u001b[1;33m=\u001b[0m \u001b[0mFalse\u001b[0m\u001b[1;33m\u001b[0m\u001b[0m\n\u001b[0;32m    361\u001b[0m     \u001b[1;32mif\u001b[0m \u001b[0misinstance\u001b[0m\u001b[1;33m(\u001b[0m\u001b[0mfile\u001b[0m\u001b[1;33m,\u001b[0m \u001b[0mbasestring\u001b[0m\u001b[1;33m)\u001b[0m\u001b[1;33m:\u001b[0m\u001b[1;33m\u001b[0m\u001b[0m\n\u001b[1;32m--> 362\u001b[1;33m         \u001b[0mfid\u001b[0m \u001b[1;33m=\u001b[0m \u001b[0mopen\u001b[0m\u001b[1;33m(\u001b[0m\u001b[0mfile\u001b[0m\u001b[1;33m,\u001b[0m \u001b[1;34m\"rb\"\u001b[0m\u001b[1;33m)\u001b[0m\u001b[1;33m\u001b[0m\u001b[0m\n\u001b[0m\u001b[0;32m    363\u001b[0m         \u001b[0mown_fid\u001b[0m \u001b[1;33m=\u001b[0m \u001b[0mTrue\u001b[0m\u001b[1;33m\u001b[0m\u001b[0m\n\u001b[0;32m    364\u001b[0m     \u001b[1;32melse\u001b[0m\u001b[1;33m:\u001b[0m\u001b[1;33m\u001b[0m\u001b[0m\n",
      "\u001b[1;31mIOError\u001b[0m: [Errno 2] No such file or directory: 'clda_data/avg_samples.npz'"
     ]
    }
   ],
   "source": [
    "theta_pb = np.load('clda_data/avg_samples.npz')\n",
    "phi = theta_pb['arr_1']\n",
    "#with open('data/out_prism_0', 'r') as fin:\n",
    "#with open('clda_data/out_prism', 'r') as fin:\n",
    "#        phi = [np.array(ast.literal_eval(line.strip())) for line in fin]     \n",
    "phi = np.array(phi)\n",
    "print phi.shape\n",
    "\n",
    "vocab = pickle.load(open('data/vocab.pkl', 'r'))\n",
    "inv = dict((v, k) for k, v in vocab.iteritems())\n",
    "\n",
    "axis = 1\n",
    "index = list(np.ix_(*[np.arange(i) for i in phi.shape]))\n",
    "index[axis] = phi.argsort(axis)\n",
    "a = phi[index][:,-20:]\n",
    "counts = np.rint(a/np.sum(a, axis=1).reshape(-1,1)*1000).tolist()\n",
    "idx_l = index[axis][:,-20:].tolist()\n",
    "words = [[inv[i] for i in subl] for subl in idx_l]\n",
    "pprint(words)"
   ]
  },
  {
   "cell_type": "code",
   "execution_count": 6,
   "metadata": {
    "collapsed": true
   },
   "outputs": [],
   "source": [
    "axis = 1\n",
    "index = list(np.ix_(*[np.arange(i) for i in phi.shape]))\n",
    "index[axis] = phi.argsort(axis)\n",
    "a = phi[index][:,-20:]"
   ]
  },
  {
   "cell_type": "code",
   "execution_count": 7,
   "metadata": {
    "collapsed": false
   },
   "outputs": [
    {
     "data": {
      "text/plain": [
       "(20, 20)"
      ]
     },
     "execution_count": 7,
     "metadata": {},
     "output_type": "execute_result"
    }
   ],
   "source": [
    "a.shape"
   ]
  },
  {
   "cell_type": "code",
   "execution_count": 8,
   "metadata": {
    "collapsed": false
   },
   "outputs": [
    {
     "name": "stdout",
     "output_type": "stream",
     "text": [
      "20\n",
      "20\n"
     ]
    }
   ],
   "source": [
    "print(len(words))\n",
    "print(len(words[0]))"
   ]
  },
  {
   "cell_type": "code",
   "execution_count": 9,
   "metadata": {
    "collapsed": false,
    "scrolled": true
   },
   "outputs": [
    {
     "name": "stdout",
     "output_type": "stream",
     "text": [
      "[(u'thetastart', 0.000105017), (u'spl', 0.00013768999999999999), (u'thisy', 0.000140359), (u'pole', 0.00014775500000000001), (u'static', 0.00016964700000000001), (u'ntheta', 0.000175747), (u'magicangle', 0.000175747), (u'southy', 0.000175747), (u'northy', 0.000175747), (u'xorg', 0.000207784), (u'yorg', 0.000211156), (u'zorg', 0.000211156), (u'freq', 0.00021571200000000001), (u'struct', 0.00023855400000000001), (u'theta', 0.00024449299999999998), (u'rtheta', 0.000282002), (u'sqrt', 0.00045346299999999998), (u'double', 0.00062460900000000004), (u'radius', 0.00064327500000000001), (u'den', 0.00190968)]\n"
     ]
    }
   ],
   "source": [
    "# build lists of word/prob\n",
    "\n",
    "# topic 1\n",
    "freq1 = zip(words[0], list(a[0,:])) \n",
    "\n",
    "# topic 2\n",
    "freq2 = zip(words[1], list(a[1,:])) \n",
    "\n",
    "print freq1"
   ]
  },
  {
   "cell_type": "code",
   "execution_count": 34,
   "metadata": {
    "collapsed": true
   },
   "outputs": [],
   "source": [
    "#build wordcloud object and fit it\n",
    "\n",
    "wc = WordCloud(background_color=\"white\", width=400, height=400, random_state=1234).fit_words(freq1)\n",
    "\n",
    "def grey_color_func(word, font_size, position, orientation, random_state=None, **kwargs):\n",
    "    return \"hsl(0, 0%%, %d%%)\" % random.randint(1, 60)"
   ]
  },
  {
   "cell_type": "code",
   "execution_count": 35,
   "metadata": {
    "collapsed": false
   },
   "outputs": [],
   "source": [
    "plt.imshow(wc.recolor(color_func=grey_color_func, random_state=3))\n",
    "plt.axis(\"off\")\n",
    "plt.savefig('data/topic1.pdf', format='pdf')\n",
    "plt.close()"
   ]
  },
  {
   "cell_type": "code",
   "execution_count": 38,
   "metadata": {
    "collapsed": false
   },
   "outputs": [],
   "source": [
    "plt.imshow(wc.fit_words(freq2).recolor(color_func=grey_color_func, random_state=3))\n",
    "plt.axis(\"off\")\n",
    "plt.savefig('data/topic2.pdf', format='pdf')\n",
    "plt.close()"
   ]
  },
  {
   "cell_type": "code",
   "execution_count": 3,
   "metadata": {
    "collapsed": true
   },
   "outputs": [],
   "source": [
    "###\n",
    "# Inspect phi (prism specific)\n",
    "###"
   ]
  },
  {
   "cell_type": "code",
   "execution_count": 86,
   "metadata": {
    "collapsed": false
   },
   "outputs": [
    {
     "name": "stdout",
     "output_type": "stream",
     "text": [
      "(20, 27489)\n",
      "[[u'mac',\n",
      "  u'do',\n",
      "  u'it',\n",
      "  u'driver',\n",
      "  u'window',\n",
      "  u'work',\n",
      "  u'use',\n",
      "  u'disk',\n",
      "  u'thanks',\n",
      "  u'anyone',\n",
      "  u'system',\n",
      "  u'like',\n",
      "  u'get',\n",
      "  u'know',\n",
      "  u'problem',\n",
      "  u'one',\n",
      "  u'card',\n",
      "  u'the',\n",
      "  u'would',\n",
      "  u'drive'],\n",
      " [u'southy',\n",
      "  u'ntheta',\n",
      "  u'static',\n",
      "  u'xorg',\n",
      "  u'yorg',\n",
      "  u'zorg',\n",
      "  u'freq',\n",
      "  u'struct',\n",
      "  u'theta',\n",
      "  u'rtheta',\n",
      "  u'adjusted',\n",
      "  u'sqrt',\n",
      "  u'is',\n",
      "  u'radius',\n",
      "  u'double',\n",
      "  u'cross',\n",
      "  u'linked',\n",
      "  u'unit',\n",
      "  u'allocation',\n",
      "  u'den'],\n",
      " [u'upon',\n",
      "  u'story',\n",
      "  u'herbert',\n",
      "  u'brunner',\n",
      "  u'gerrold',\n",
      "  u'danny',\n",
      "  u'james',\n",
      "  u'mcintyre',\n",
      "  u'sterling',\n",
      "  u'ryan',\n",
      "  u'paul',\n",
      "  u'hogan',\n",
      "  u'bruce',\n",
      "  u'baen',\n",
      "  u'thomas',\n",
      "  u'william',\n",
      "  u'vernor',\n",
      "  u'gibson',\n",
      "  u'vinge',\n",
      "  u'from'],\n",
      " [u'color',\n",
      "  u'one',\n",
      "  u'server',\n",
      "  u'display',\n",
      "  u'system',\n",
      "  u'format',\n",
      "  u'application',\n",
      "  u'it',\n",
      "  u'get',\n",
      "  u'also',\n",
      "  u'available',\n",
      "  u'this',\n",
      "  u'version',\n",
      "  u'if',\n",
      "  u'use',\n",
      "  u'image',\n",
      "  u'program',\n",
      "  u'window',\n",
      "  u'the',\n",
      "  u'file'],\n",
      " [u'thx',\n",
      "  u'cica',\n",
      "  u'sorry',\n",
      "  u'adam',\n",
      "  u'xman',\n",
      "  u'thanx',\n",
      "  u'thanks',\n",
      "  u'did',\n",
      "  u'hello',\n",
      "  u'anybody',\n",
      "  u'looking',\n",
      "  u'thank',\n",
      "  u'hi',\n",
      "  u'excerpt',\n",
      "  u'gary',\n",
      "  u'studio',\n",
      "  u'penio',\n",
      "  u'tia',\n",
      "  u'autodesk',\n",
      "  u'penev'],\n",
      " [u'define',\n",
      "  u'filename',\n",
      "  u'year',\n",
      "  u'uuencode',\n",
      "  u'build',\n",
      "  u'line',\n",
      "  u'buf',\n",
      "  u'return',\n",
      "  u'fprintf',\n",
      "  u'stream',\n",
      "  u'oname',\n",
      "  u'contest',\n",
      "  u'section',\n",
      "  u'int',\n",
      "  u'file',\n",
      "  u'rule',\n",
      "  u'printf',\n",
      "  u'char',\n",
      "  u'output',\n",
      "  u'entry'],\n",
      " [u'thx',\n",
      "  u'cica',\n",
      "  u'sorry',\n",
      "  u'adam',\n",
      "  u'xman',\n",
      "  u'thanx',\n",
      "  u'thanks',\n",
      "  u'did',\n",
      "  u'hello',\n",
      "  u'anybody',\n",
      "  u'looking',\n",
      "  u'thank',\n",
      "  u'hi',\n",
      "  u'excerpt',\n",
      "  u'gary',\n",
      "  u'studio',\n",
      "  u'penio',\n",
      "  u'tia',\n",
      "  u'autodesk',\n",
      "  u'penev'],\n",
      " [u'gary',\n",
      "  u'studio',\n",
      "  u'penio',\n",
      "  u'tia',\n",
      "  u'autodesk',\n",
      "  u'passive',\n",
      "  u'penev',\n",
      "  u'repost',\n",
      "  u'wired',\n",
      "  u'sane',\n",
      "  u'iifx',\n",
      "  u'initiation',\n",
      "  u'maciifx',\n",
      "  u'sdtr',\n",
      "  u'hardcore',\n",
      "  u'blast',\n",
      "  u'technote',\n",
      "  u'tim',\n",
      "  u'keanini',\n",
      "  u'tk'],\n",
      " [u'ml',\n",
      "  u'ma',\n",
      "  u'mk',\n",
      "  u'fij',\n",
      "  u'mw',\n",
      "  u'mn',\n",
      "  u'lg',\n",
      "  u'mq',\n",
      "  u'pl',\n",
      "  u'mr',\n",
      "  u'qax',\n",
      "  u'mv',\n",
      "  u'gk',\n",
      "  u'ql',\n",
      "  u'air',\n",
      "  u'ax',\n",
      "  u'ah',\n",
      "  u'wm',\n",
      "  u'giz',\n",
      "  u'max'],\n",
      " [u'thx',\n",
      "  u'cica',\n",
      "  u'sorry',\n",
      "  u'adam',\n",
      "  u'xman',\n",
      "  u'thanx',\n",
      "  u'thanks',\n",
      "  u'did',\n",
      "  u'hello',\n",
      "  u'anybody',\n",
      "  u'looking',\n",
      "  u'thank',\n",
      "  u'hi',\n",
      "  u'excerpt',\n",
      "  u'gary',\n",
      "  u'studio',\n",
      "  u'penio',\n",
      "  u'tia',\n",
      "  u'autodesk',\n",
      "  u'penev'],\n",
      " [u'vantage',\n",
      "  u'torch',\n",
      "  u'crosswise',\n",
      "  u'populous',\n",
      "  u'rising',\n",
      "  u'dismayed',\n",
      "  u'formulated',\n",
      "  u'mood',\n",
      "  u'dispell',\n",
      "  u'unfilled',\n",
      "  u'ambiguity',\n",
      "  u'distort',\n",
      "  u'sheared',\n",
      "  u'assured',\n",
      "  u'planar',\n",
      "  u'slope',\n",
      "  u'skewed',\n",
      "  u'perspective',\n",
      "  u'wall',\n",
      "  u'xxxx'],\n",
      " [u'thx',\n",
      "  u'cica',\n",
      "  u'sorry',\n",
      "  u'adam',\n",
      "  u'xman',\n",
      "  u'thanx',\n",
      "  u'thanks',\n",
      "  u'did',\n",
      "  u'hello',\n",
      "  u'anybody',\n",
      "  u'looking',\n",
      "  u'thank',\n",
      "  u'hi',\n",
      "  u'excerpt',\n",
      "  u'gary',\n",
      "  u'studio',\n",
      "  u'penio',\n",
      "  u'tia',\n",
      "  u'autodesk',\n",
      "  u'penev'],\n",
      " [u'void',\n",
      "  u'fi',\n",
      "  u'rm',\n",
      "  u'tw',\n",
      "  u'argv',\n",
      "  u'mydisplay',\n",
      "  u'shar',\n",
      "  u'pwd',\n",
      "  u'dpy',\n",
      "  u'hostname',\n",
      "  u'else',\n",
      "  u'int',\n",
      "  u'endif',\n",
      "  u'col',\n",
      "  u'remote',\n",
      "  u'row',\n",
      "  u'rx',\n",
      "  u'defined',\n",
      "  u'define',\n",
      "  u'echo'],\n",
      " [u'hi',\n",
      "  u'excerpt',\n",
      "  u'gary',\n",
      "  u'studio',\n",
      "  u'penio',\n",
      "  u'tia',\n",
      "  u'autodesk',\n",
      "  u'voice',\n",
      "  u'are',\n",
      "  u'penev',\n",
      "  u'hello',\n",
      "  u'everybody',\n",
      "  u'dept',\n",
      "  u'univ',\n",
      "  u'informatics',\n",
      "  u'kirkealle',\n",
      "  u'lademoens',\n",
      "  u'kvam',\n",
      "  u'trondheim',\n",
      "  u'frode'],\n",
      " [u'win',\n",
      "  u'garbage',\n",
      "  u'foregroundcolor',\n",
      "  u'backgroundcolor',\n",
      "  u'sorry',\n",
      "  u'xfillrectangle',\n",
      "  u'xcopyarea',\n",
      "  u'xdraw',\n",
      "  u'xsetforeground',\n",
      "  u'discrete',\n",
      "  u'mathematics',\n",
      "  u'juergen',\n",
      "  u'insitute',\n",
      "  u'schietke',\n",
      "  u'nassestr',\n",
      "  u'din',\n",
      "  u'pix',\n",
      "  u'pixgc',\n",
      "  u'bonn',\n",
      "  u'disp'],\n",
      " [u'thx',\n",
      "  u'cica',\n",
      "  u'sorry',\n",
      "  u'adam',\n",
      "  u'xman',\n",
      "  u'thanx',\n",
      "  u'thanks',\n",
      "  u'did',\n",
      "  u'hello',\n",
      "  u'anybody',\n",
      "  u'looking',\n",
      "  u'thank',\n",
      "  u'hi',\n",
      "  u'excerpt',\n",
      "  u'gary',\n",
      "  u'studio',\n",
      "  u'penio',\n",
      "  u'tia',\n",
      "  u'autodesk',\n",
      "  u'penev'],\n",
      " [u'wrote',\n",
      "  u'hopkins',\n",
      "  u'settle',\n",
      "  u'deskwriter',\n",
      "  u'homewood',\n",
      "  u'baltimore',\n",
      "  u'unattended',\n",
      "  u'expires',\n",
      "  u'keywords',\n",
      "  u'cart',\n",
      "  u'applied',\n",
      "  u'steve',\n",
      "  u'iigs',\n",
      "  u'liu',\n",
      "  u'tttttt',\n",
      "  u'eeeee',\n",
      "  u'eeee',\n",
      "  u'tt',\n",
      "  u'ee',\n",
      "  u'vv'],\n",
      " [u'thx',\n",
      "  u'cica',\n",
      "  u'sorry',\n",
      "  u'adam',\n",
      "  u'xman',\n",
      "  u'thanx',\n",
      "  u'thanks',\n",
      "  u'did',\n",
      "  u'hello',\n",
      "  u'anybody',\n",
      "  u'looking',\n",
      "  u'thank',\n",
      "  u'hi',\n",
      "  u'excerpt',\n",
      "  u'gary',\n",
      "  u'studio',\n",
      "  u'penio',\n",
      "  u'tia',\n",
      "  u'autodesk',\n",
      "  u'penev'],\n",
      " [u'no',\n",
      "  u'proposed',\n",
      "  u'tom',\n",
      "  u'charter',\n",
      "  u'stefan',\n",
      "  u'proposal',\n",
      "  u'multimedia',\n",
      "  u'cfv',\n",
      "  u'stephen',\n",
      "  u'john',\n",
      "  u'publishing',\n",
      "  u'cdrom',\n",
      "  u'ballot',\n",
      "  u'unmoderated',\n",
      "  u'yes',\n",
      "  u'undefined',\n",
      "  u'symbol',\n",
      "  u'voting',\n",
      "  u'doug',\n",
      "  u'vote'],\n",
      " [u'polygon',\n",
      "  u'point',\n",
      "  u'center',\n",
      "  u'contact',\n",
      "  u'sgi',\n",
      "  u'mail',\n",
      "  u'conference',\n",
      "  u'ray',\n",
      "  u'object',\n",
      "  u'send',\n",
      "  u'fax',\n",
      "  u'university',\n",
      "  u'analysis',\n",
      "  u'processing',\n",
      "  u'research',\n",
      "  u'package',\n",
      "  u'computer',\n",
      "  u'image',\n",
      "  u'data',\n",
      "  u'graphic']]\n"
     ]
    }
   ],
   "source": [
    "# prism\n",
    "with open('data/out_lda_prism', 'r') as fin:\n",
    "#with open('clda_data/out_prism', 'r') as fin:\n",
    "        phi = [np.array(ast.literal_eval(line.strip())) for line in fin]\n",
    "#with open('data/out_prism_0', 'r') as fin:\n",
    "#        phi = [np.array(ast.literal_eval(line.strip())) for line in fin]     \n",
    "phi = np.array(phi)\n",
    "print phi.shape\n",
    "\n",
    "vocab = pickle.load(open('data/vocab.pkl', 'r'))\n",
    "inv = dict((v, k) for k, v in vocab.iteritems())\n",
    "\n",
    "axis = 1\n",
    "index = list(np.ix_(*[np.arange(i) for i in phi.shape]))\n",
    "index[axis] = phi.argsort(axis)\n",
    "a = phi[index][:,-20:]\n",
    "counts = np.rint(a/np.sum(a, axis=1).reshape(-1,1)*1000).tolist()\n",
    "idx_l = index[axis][:,-20:].tolist()\n",
    "words = [[inv[i]  for i in subl] for subl in idx_l]\n",
    "pprint(words)"
   ]
  },
  {
   "cell_type": "code",
   "execution_count": 12,
   "metadata": {
    "collapsed": false
   },
   "outputs": [
    {
     "data": {
      "text/plain": [
       "(20, 20)"
      ]
     },
     "execution_count": 12,
     "metadata": {},
     "output_type": "execute_result"
    }
   ],
   "source": [
    "a.shape"
   ]
  },
  {
   "cell_type": "code",
   "execution_count": 15,
   "metadata": {
    "collapsed": false
   },
   "outputs": [
    {
     "data": {
      "text/plain": [
       "(20, 20)"
      ]
     },
     "execution_count": 15,
     "metadata": {},
     "output_type": "execute_result"
    }
   ],
   "source": [
    "np.array(idx_l).shape"
   ]
  },
  {
   "cell_type": "code",
   "execution_count": 87,
   "metadata": {
    "collapsed": false
   },
   "outputs": [
    {
     "name": "stdout",
     "output_type": "stream",
     "text": [
      "╒═════════╤════════╤════════════╤════════╤═════════╤════════╤═══════════╤════════╤══════════╤════════╕\n",
      "│ token   │   logp │ token      │   logp │ token   │   logp │ token     │   logp │ token    │   logp │\n",
      "╞═════════╪════════╪════════════╪════════╪═════════╪════════╪═══════════╪════════╪══════════╪════════╡\n",
      "│ drive   │  -4.74 │ den        │  -6.28 │ from    │  -6.4  │ file      │  -4.22 │ penev    │  -9.96 │\n",
      "├─────────┼────────┼────────────┼────────┼─────────┼────────┼───────────┼────────┼──────────┼────────┤\n",
      "│ would   │  -4.86 │ allocation │  -6.3  │ vinge   │  -7.7  │ the       │  -4.5  │ autodesk │ -10.01 │\n",
      "├─────────┼────────┼────────────┼────────┼─────────┼────────┼───────────┼────────┼──────────┼────────┤\n",
      "│ the     │  -4.87 │ unit       │  -6.41 │ gibson  │  -8.15 │ window    │  -4.69 │ tia      │ -10.02 │\n",
      "├─────────┼────────┼────────────┼────────┼─────────┼────────┼───────────┼────────┼──────────┼────────┤\n",
      "│ card    │  -4.98 │ linked     │  -6.42 │ vernor  │  -8.19 │ program   │  -4.83 │ penio    │ -10.02 │\n",
      "├─────────┼────────┼────────────┼────────┼─────────┼────────┼───────────┼────────┼──────────┼────────┤\n",
      "│ one     │  -4.99 │ cross      │  -6.43 │ william │  -8.38 │ image     │  -4.85 │ studio   │ -10.02 │\n",
      "├─────────┼────────┼────────────┼────────┼─────────┼────────┼───────────┼────────┼──────────┼────────┤\n",
      "│ problem │  -5.01 │ double     │  -7.41 │ thomas  │  -8.4  │ use       │  -5.01 │ gary     │ -10.03 │\n",
      "├─────────┼────────┼────────────┼────────┼─────────┼────────┼───────────┼────────┼──────────┼────────┤\n",
      "│ know    │  -5.03 │ radius     │  -7.54 │ baen    │  -8.48 │ if        │  -5.23 │ excerpt  │ -10.03 │\n",
      "├─────────┼────────┼────────────┼────────┼─────────┼────────┼───────────┼────────┼──────────┼────────┤\n",
      "│ get     │  -5.22 │ is         │  -7.68 │ bruce   │  -8.61 │ version   │  -5.3  │ hi       │ -10.03 │\n",
      "├─────────┼────────┼────────────┼────────┼─────────┼────────┼───────────┼────────┼──────────┼────────┤\n",
      "│ like    │  -5.22 │ sqrt       │  -7.73 │ hogan   │  -8.66 │ this      │  -5.32 │ thank    │ -10.04 │\n",
      "├─────────┼────────┼────────────┼────────┼─────────┼────────┼───────────┼────────┼──────────┼────────┤\n",
      "│ system  │  -5.23 │ adjusted   │  -8.15 │ paul    │  -8.71 │ available │  -5.33 │ looking  │ -10.05 │\n",
      "╘═════════╧════════╧════════════╧════════╧═════════╧════════╧═══════════╧════════╧══════════╧════════╛\n"
     ]
    }
   ],
   "source": [
    "# export\n",
    "#tabulate(words, headers, tablefmt=\"latex\")\n",
    "b = np.array(words)\n",
    "table = [[val for pair in zip(list(b[:,i]), list(np.round(np.log(a[:,i]), 2))) for val in pair][:10] for i in reversed(range(10,20))]\n",
    "\n",
    "headers = ['token', 'logp']*5\n",
    "\n",
    "print tabulate(table, headers, tablefmt=\"fancy_grid\")\n",
    "\n",
    "with open('data/prism_topic_table.tex', 'w') as fout:\n",
    "    fout.write(tabulate(table, headers, tablefmt=\"latex\"))"
   ]
  },
  {
   "cell_type": "code",
   "execution_count": 88,
   "metadata": {
    "collapsed": false
   },
   "outputs": [
    {
     "name": "stdout",
     "output_type": "stream",
     "text": [
      "╒═════════╤════════╤══════════╤════════╤════════════╤════════╤═════════╤════════╤══════════╤════════╕\n",
      "│ token   │   logp │ token    │   logp │ token      │   logp │ token   │   logp │ token    │   logp │\n",
      "╞═════════╪════════╪══════════╪════════╪════════════╪════════╪═════════╪════════╪══════════╪════════╡\n",
      "│ entry   │  -4.43 │ penev    │  -9.96 │ tk         │  -7.09 │ max     │  -2.43 │ penev    │  -9.96 │\n",
      "├─────────┼────────┼──────────┼────────┼────────────┼────────┼─────────┼────────┼──────────┼────────┤\n",
      "│ output  │  -4.83 │ autodesk │ -10.01 │ keanini    │  -9.28 │ giz     │  -5.11 │ autodesk │ -10.01 │\n",
      "├─────────┼────────┼──────────┼────────┼────────────┼────────┼─────────┼────────┼──────────┼────────┤\n",
      "│ char    │  -5.48 │ tia      │ -10.02 │ tim        │  -9.51 │ wm      │  -5.24 │ tia      │ -10.02 │\n",
      "├─────────┼────────┼──────────┼────────┼────────────┼────────┼─────────┼────────┼──────────┼────────┤\n",
      "│ printf  │  -5.5  │ penio    │ -10.02 │ technote   │  -9.65 │ ah      │  -5.4  │ penio    │ -10.02 │\n",
      "├─────────┼────────┼──────────┼────────┼────────────┼────────┼─────────┼────────┼──────────┼────────┤\n",
      "│ rule    │  -5.59 │ studio   │ -10.02 │ blast      │  -9.67 │ ax      │  -5.85 │ studio   │ -10.02 │\n",
      "├─────────┼────────┼──────────┼────────┼────────────┼────────┼─────────┼────────┼──────────┼────────┤\n",
      "│ file    │  -5.6  │ gary     │ -10.03 │ hardcore   │  -9.74 │ air     │  -5.9  │ gary     │ -10.03 │\n",
      "├─────────┼────────┼──────────┼────────┼────────────┼────────┼─────────┼────────┼──────────┼────────┤\n",
      "│ int     │  -5.72 │ excerpt  │ -10.03 │ sdtr       │  -9.74 │ ql      │  -5.92 │ excerpt  │ -10.03 │\n",
      "├─────────┼────────┼──────────┼────────┼────────────┼────────┼─────────┼────────┼──────────┼────────┤\n",
      "│ section │  -5.74 │ hi       │ -10.03 │ maciifx    │  -9.74 │ gk      │  -5.97 │ hi       │ -10.03 │\n",
      "├─────────┼────────┼──────────┼────────┼────────────┼────────┼─────────┼────────┼──────────┼────────┤\n",
      "│ contest │  -5.75 │ thank    │ -10.04 │ initiation │  -9.74 │ mv      │  -5.98 │ thank    │ -10.04 │\n",
      "├─────────┼────────┼──────────┼────────┼────────────┼────────┼─────────┼────────┼──────────┼────────┤\n",
      "│ oname   │  -5.79 │ looking  │ -10.05 │ iifx       │  -9.86 │ qax     │  -6    │ looking  │ -10.05 │\n",
      "╘═════════╧════════╧══════════╧════════╧════════════╧════════╧═════════╧════════╧══════════╧════════╛\n"
     ]
    }
   ],
   "source": [
    "table = [[val for pair in zip(list(b[:,i]), list(np.round(np.log(a[:,i]), 2))) for val in pair][10:20] for i in reversed(range(10,20))]\n",
    "\n",
    "headers = ['token', 'logp']*5\n",
    "\n",
    "print tabulate(table, headers, tablefmt=\"fancy_grid\")"
   ]
  },
  {
   "cell_type": "code",
   "execution_count": 89,
   "metadata": {
    "collapsed": false
   },
   "outputs": [
    {
     "name": "stdout",
     "output_type": "stream",
     "text": [
      "╒═════════════╤════════╤══════════╤════════╤═════════╤════════╤═════════════╤════════╤═════════════╤════════╕\n",
      "│ token       │   logp │ token    │   logp │ token   │   logp │ token       │   logp │ token       │   logp │\n",
      "╞═════════════╪════════╪══════════╪════════╪═════════╪════════╪═════════════╪════════╪═════════════╪════════╡\n",
      "│ xxxx        │  -6.95 │ penev    │  -9.96 │ echo    │  -6.26 │ frode       │  -8.42 │ disp        │  -8.22 │\n",
      "├─────────────┼────────┼──────────┼────────┼─────────┼────────┼─────────────┼────────┼─────────────┼────────┤\n",
      "│ wall        │  -9.05 │ autodesk │ -10.01 │ define  │  -6.56 │ trondheim   │  -8.71 │ bonn        │  -8.39 │\n",
      "├─────────────┼────────┼──────────┼────────┼─────────┼────────┼─────────────┼────────┼─────────────┼────────┤\n",
      "│ perspective │  -9.15 │ tia      │ -10.02 │ defined │  -6.76 │ kvam        │  -8.8  │ pixgc       │  -8.5  │\n",
      "├─────────────┼────────┼──────────┼────────┼─────────┼────────┼─────────────┼────────┼─────────────┼────────┤\n",
      "│ skewed      │  -9.28 │ penio    │ -10.02 │ rx      │  -6.82 │ lademoens   │  -9.38 │ pix         │  -8.51 │\n",
      "├─────────────┼────────┼──────────┼────────┼─────────┼────────┼─────────────┼────────┼─────────────┼────────┤\n",
      "│ slope       │  -9.34 │ studio   │ -10.02 │ row     │  -6.88 │ kirkealle   │  -9.38 │ din         │  -8.77 │\n",
      "├─────────────┼────────┼──────────┼────────┼─────────┼────────┼─────────────┼────────┼─────────────┼────────┤\n",
      "│ planar      │  -9.41 │ gary     │ -10.03 │ remote  │  -6.92 │ informatics │  -9.45 │ nassestr    │  -9    │\n",
      "├─────────────┼────────┼──────────┼────────┼─────────┼────────┼─────────────┼────────┼─────────────┼────────┤\n",
      "│ assured     │  -9.65 │ excerpt  │ -10.03 │ col     │  -6.92 │ univ        │  -9.54 │ schietke    │  -9    │\n",
      "├─────────────┼────────┼──────────┼────────┼─────────┼────────┼─────────────┼────────┼─────────────┼────────┤\n",
      "│ sheared     │  -9.69 │ hi       │ -10.03 │ endif   │  -6.94 │ dept        │  -9.55 │ insitute    │  -9    │\n",
      "├─────────────┼────────┼──────────┼────────┼─────────┼────────┼─────────────┼────────┼─────────────┼────────┤\n",
      "│ distort     │  -9.7  │ thank    │ -10.04 │ int     │  -7.02 │ everybody   │  -9.75 │ juergen     │  -9    │\n",
      "├─────────────┼────────┼──────────┼────────┼─────────┼────────┼─────────────┼────────┼─────────────┼────────┤\n",
      "│ ambiguity   │  -9.7  │ looking  │ -10.05 │ else    │  -7.1  │ hello       │  -9.94 │ mathematics │  -9.01 │\n",
      "╘═════════════╧════════╧══════════╧════════╧═════════╧════════╧═════════════╧════════╧═════════════╧════════╛\n"
     ]
    }
   ],
   "source": [
    "table = [[val for pair in zip(list(b[:,i]), list(np.round(np.log(a[:,i]), 2))) for val in pair][20:30] for i in reversed(range(10,20))]\n",
    "\n",
    "headers = ['token', 'logp']*5\n",
    "\n",
    "print tabulate(table, headers, tablefmt=\"fancy_grid\")"
   ]
  },
  {
   "cell_type": "code",
   "execution_count": 90,
   "metadata": {
    "collapsed": false
   },
   "outputs": [
    {
     "name": "stdout",
     "output_type": "stream",
     "text": [
      "╒══════════╤════════╤═════════╤════════╤══════════╤════════╤═════════════╤════════╤════════════╤════════╕\n",
      "│ token    │   logp │ token   │   logp │ token    │   logp │ token       │   logp │ token      │   logp │\n",
      "╞══════════╪════════╪═════════╪════════╪══════════╪════════╪═════════════╪════════╪════════════╪════════╡\n",
      "│ penev    │  -9.96 │ vv      │  -6.66 │ penev    │  -9.96 │ vote        │  -6.29 │ graphic    │  -5.18 │\n",
      "├──────────┼────────┼─────────┼────────┼──────────┼────────┼─────────────┼────────┼────────────┼────────┤\n",
      "│ autodesk │ -10.01 │ ee      │  -7.62 │ autodesk │ -10.01 │ doug        │  -6.61 │ data       │  -5.35 │\n",
      "├──────────┼────────┼─────────┼────────┼──────────┼────────┼─────────────┼────────┼────────────┼────────┤\n",
      "│ tia      │ -10.02 │ tt      │  -7.69 │ tia      │ -10.02 │ voting      │  -7.1  │ image      │  -5.36 │\n",
      "├──────────┼────────┼─────────┼────────┼──────────┼────────┼─────────────┼────────┼────────────┼────────┤\n",
      "│ penio    │ -10.02 │ eeee    │  -7.71 │ penio    │ -10.02 │ symbol      │  -7.12 │ computer   │  -5.5  │\n",
      "├──────────┼────────┼─────────┼────────┼──────────┼────────┼─────────────┼────────┼────────────┼────────┤\n",
      "│ studio   │ -10.02 │ eeeee   │  -7.71 │ studio   │ -10.02 │ undefined   │  -7.2  │ package    │  -5.77 │\n",
      "├──────────┼────────┼─────────┼────────┼──────────┼────────┼─────────────┼────────┼────────────┼────────┤\n",
      "│ gary     │ -10.03 │ tttttt  │  -8.35 │ gary     │ -10.03 │ yes         │  -7.45 │ research   │  -5.92 │\n",
      "├──────────┼────────┼─────────┼────────┼──────────┼────────┼─────────────┼────────┼────────────┼────────┤\n",
      "│ excerpt  │ -10.03 │ liu     │  -8.4  │ excerpt  │ -10.03 │ unmoderated │  -7.64 │ processing │  -5.92 │\n",
      "├──────────┼────────┼─────────┼────────┼──────────┼────────┼─────────────┼────────┼────────────┼────────┤\n",
      "│ hi       │ -10.03 │ iigs    │  -8.67 │ hi       │ -10.03 │ ballot      │  -7.73 │ analysis   │  -5.92 │\n",
      "├──────────┼────────┼─────────┼────────┼──────────┼────────┼─────────────┼────────┼────────────┼────────┤\n",
      "│ thank    │ -10.04 │ steve   │  -8.85 │ thank    │ -10.04 │ cdrom       │  -7.81 │ university │  -5.96 │\n",
      "├──────────┼────────┼─────────┼────────┼──────────┼────────┼─────────────┼────────┼────────────┼────────┤\n",
      "│ looking  │ -10.05 │ applied │  -9.3  │ looking  │ -10.05 │ publishing  │  -7.83 │ fax        │  -5.98 │\n",
      "╘══════════╧════════╧═════════╧════════╧══════════╧════════╧═════════════╧════════╧════════════╧════════╛\n"
     ]
    }
   ],
   "source": [
    "table = [[val for pair in zip(list(b[:,i]), list(np.round(np.log(a[:,i]), 2))) for val in pair][30:40] for i in reversed(range(10,20))]\n",
    "\n",
    "headers = ['token', 'logp']*5\n",
    "\n",
    "print tabulate(table, headers, tablefmt=\"fancy_grid\")"
   ]
  },
  {
   "cell_type": "code",
   "execution_count": 91,
   "metadata": {
    "collapsed": false
   },
   "outputs": [],
   "source": [
    "with open('data/out_d_prism', 'r') as fin:\n",
    "        phi_d = [np.array(ast.literal_eval(line.strip())) for line in fin]"
   ]
  },
  {
   "cell_type": "code",
   "execution_count": 92,
   "metadata": {
    "collapsed": true
   },
   "outputs": [],
   "source": [
    "phi_d = np.array(phi_d)"
   ]
  },
  {
   "cell_type": "code",
   "execution_count": 93,
   "metadata": {
    "collapsed": false
   },
   "outputs": [
    {
     "data": {
      "text/plain": [
       "(20, 27489)"
      ]
     },
     "execution_count": 93,
     "metadata": {},
     "output_type": "execute_result"
    }
   ],
   "source": [
    "phi_d.shape"
   ]
  },
  {
   "cell_type": "code",
   "execution_count": 94,
   "metadata": {
    "collapsed": false,
    "scrolled": true
   },
   "outputs": [
    {
     "name": "stdout",
     "output_type": "stream",
     "text": [
      "150915.0\n",
      "1158.0\n",
      "1125.0\n",
      "176672.0\n",
      "722.0\n",
      "8761.0\n",
      "722.0\n",
      "754.0\n",
      "23921.0\n",
      "722.0\n",
      "781.0\n",
      "722.0\n",
      "3297.0\n",
      "741.0\n",
      "774.0\n",
      "722.0\n",
      "837.0\n",
      "722.0\n",
      "1967.0\n",
      "30206.0\n"
     ]
    }
   ],
   "source": [
    "for i in range(20):\n",
    "    print(np.round(np.sum(phi_d[i,:])))"
   ]
  },
  {
   "cell_type": "code",
   "execution_count": 95,
   "metadata": {
    "collapsed": true
   },
   "outputs": [],
   "source": [
    "with open('data/out_theta_prism', 'r') as fin:\n",
    "        theta = [np.array(ast.literal_eval(line.strip())) for line in fin]"
   ]
  },
  {
   "cell_type": "code",
   "execution_count": 96,
   "metadata": {
    "collapsed": true
   },
   "outputs": [],
   "source": [
    "theta = np.array(theta)"
   ]
  },
  {
   "cell_type": "code",
   "execution_count": 97,
   "metadata": {
    "collapsed": false
   },
   "outputs": [
    {
     "data": {
      "text/plain": [
       "(4767, 20)"
      ]
     },
     "execution_count": 97,
     "metadata": {},
     "output_type": "execute_result"
    }
   ],
   "source": [
    "theta.shape"
   ]
  },
  {
   "cell_type": "code",
   "execution_count": 99,
   "metadata": {
    "collapsed": false
   },
   "outputs": [
    {
     "name": "stdout",
     "output_type": "stream",
     "text": [
      "222.0\n",
      "104.0\n",
      "100.0\n",
      "102.0\n",
      "100.0\n",
      "101.0\n",
      "101.0\n",
      "111.0\n",
      "100.0\n",
      "100.0\n",
      "100.0\n",
      "120.0\n",
      "101.0\n",
      "100.0\n",
      "114.0\n",
      "100.0\n",
      "1084.0\n",
      "101.0\n",
      "102.0\n",
      "1703.0\n"
     ]
    }
   ],
   "source": [
    "for i in range(20):\n",
    "    print(np.round(np.sum(theta[:,i])))"
   ]
  },
  {
   "cell_type": "code",
   "execution_count": 6,
   "metadata": {
    "collapsed": false
   },
   "outputs": [
    {
     "data": {
      "text/plain": [
       "array([ 0.0270976,  0.0217891,  0.0105556,  0.0217891,  0.021789 ,\n",
       "        0.0217891,  0.0217891,  0.0217891,  0.0217891,  0.021789 ,\n",
       "        0.0211295,  0.0214812,  0.0217891,  0.021789 ,  0.0217891,\n",
       "        0.0217891,  0.0217853,  0.0217891,  2.60096  ,  0.0137337])"
      ]
     },
     "execution_count": 6,
     "metadata": {},
     "output_type": "execute_result"
    }
   ],
   "source": [
    "phi_d[:, 9399]"
   ]
  },
  {
   "cell_type": "code",
   "execution_count": 7,
   "metadata": {
    "collapsed": false
   },
   "outputs": [
    {
     "data": {
      "text/plain": [
       "array([   0.,    0.,    0.,    0.,    0.,    0.,    0.,    0.,    0.,\n",
       "          0.,    0.,    0.,    0.,    0.,    0.,    0.,    0.,    0.,\n",
       "          0.,  455.])"
      ]
     },
     "execution_count": 7,
     "metadata": {},
     "output_type": "execute_result"
    }
   ],
   "source": [
    "phi_d[:, 9398]"
   ]
  },
  {
   "cell_type": "code",
   "execution_count": 8,
   "metadata": {
    "collapsed": false
   },
   "outputs": [
    {
     "data": {
      "text/plain": [
       "array([   0.,    0.,    0.,    0.,    0.,    0.,    0.,    0.,    0.,\n",
       "          0.,    0.,    0.,    0.,    0.,    0.,    0.,    0.,    0.,\n",
       "          0.,  811.])"
      ]
     },
     "execution_count": 8,
     "metadata": {},
     "output_type": "execute_result"
    }
   ],
   "source": [
    "phi_d[:, 13167]"
   ]
  },
  {
   "cell_type": "code",
   "execution_count": 9,
   "metadata": {
    "collapsed": false
   },
   "outputs": [
    {
     "data": {
      "text/plain": [
       "array([    0.,     0.,     0.,     0.,     0.,     0.,     0.,     0.,\n",
       "           0.,     0.,     0.,     0.,     0.,     0.,     0.,     0.,\n",
       "           0.,     0.,  1188.,     0.])"
      ]
     },
     "execution_count": 9,
     "metadata": {},
     "output_type": "execute_result"
    }
   ],
   "source": [
    "phi_d[:, 21247]"
   ]
  },
  {
   "cell_type": "code",
   "execution_count": 10,
   "metadata": {
    "collapsed": false
   },
   "outputs": [
    {
     "data": {
      "text/plain": [
       "array([   0.,    0.,    0.,    0.,    0.,    0.,    0.,    0.,    0.,\n",
       "          0.,    0.,    0.,    0.,    0.,    0.,    0.,    0.,    0.,\n",
       "        184.,    0.])"
      ]
     },
     "execution_count": 10,
     "metadata": {},
     "output_type": "execute_result"
    }
   ],
   "source": [
    "phi_d[:, 20682]"
   ]
  },
  {
   "cell_type": "code",
   "execution_count": 12,
   "metadata": {
    "collapsed": false
   },
   "outputs": [
    {
     "data": {
      "text/plain": [
       "array([ 0.0355511 ,  0.0359236 ,  0.0165952 ,  0.0359236 ,  0.0359236 ,\n",
       "        0.0359236 ,  0.0359236 ,  0.0359236 ,  0.0359236 ,  0.0359236 ,\n",
       "        0.0338185 ,  0.0352898 ,  0.0359236 ,  0.0359236 ,  0.0359236 ,\n",
       "        0.0359236 ,  0.0359242 ,  0.0359236 ,  0.00566174,  0.370153  ])"
      ]
     },
     "execution_count": 12,
     "metadata": {},
     "output_type": "execute_result"
    }
   ],
   "source": [
    "phi_d[:, 2]"
   ]
  },
  {
   "cell_type": "code",
   "execution_count": 22,
   "metadata": {
    "collapsed": false
   },
   "outputs": [
    {
     "data": {
      "text/plain": [
       "9573"
      ]
     },
     "execution_count": 22,
     "metadata": {},
     "output_type": "execute_result"
    }
   ],
   "source": [
    "vocab['help']"
   ]
  },
  {
   "cell_type": "code",
   "execution_count": 24,
   "metadata": {
    "collapsed": false
   },
   "outputs": [
    {
     "data": {
      "text/plain": [
       "0.0035838599999999999"
      ]
     },
     "execution_count": 24,
     "metadata": {},
     "output_type": "execute_result"
    }
   ],
   "source": [
    "phi[19,9573]"
   ]
  },
  {
   "cell_type": "code",
   "execution_count": 25,
   "metadata": {
    "collapsed": false
   },
   "outputs": [
    {
     "data": {
      "text/plain": [
       "0.0100447"
      ]
     },
     "execution_count": 25,
     "metadata": {},
     "output_type": "execute_result"
    }
   ],
   "source": [
    "np.max(phi[19,:])"
   ]
  },
  {
   "cell_type": "code",
   "execution_count": 26,
   "metadata": {
    "collapsed": false
   },
   "outputs": [
    {
     "data": {
      "text/plain": [
       "6116"
      ]
     },
     "execution_count": 26,
     "metadata": {},
     "output_type": "execute_result"
    }
   ],
   "source": [
    "vocab['drive']"
   ]
  },
  {
   "cell_type": "code",
   "execution_count": 27,
   "metadata": {
    "collapsed": false
   },
   "outputs": [
    {
     "data": {
      "text/plain": [
       "0.0100447"
      ]
     },
     "execution_count": 27,
     "metadata": {},
     "output_type": "execute_result"
    }
   ],
   "source": [
    "phi[19,6116]"
   ]
  },
  {
   "cell_type": "code",
   "execution_count": 28,
   "metadata": {
    "collapsed": false
   },
   "outputs": [
    {
     "name": "stdout",
     "output_type": "stream",
     "text": [
      "[u'help', u'monitor', u'think', u'using', u'need', u'memory', u'time', u'mac', u'machine', u'driver', u'disk', u'thanks', u'work', u'use', u'like', u'window', u'know', u'card', u'problem', u'drive']\n"
     ]
    }
   ],
   "source": [
    "print(words[19])"
   ]
  },
  {
   "cell_type": "code",
   "execution_count": 29,
   "metadata": {
    "collapsed": false
   },
   "outputs": [
    {
     "name": "stdout",
     "output_type": "stream",
     "text": [
      "[0.0035838599999999999, 0.0036122799999999998, 0.0037710899999999999, 0.0037914899999999998, 0.0039718499999999999, 0.0040994400000000002, 0.00419251, 0.0046121000000000001, 0.0051608399999999999, 0.0051923500000000001, 0.0057109400000000003, 0.0057191899999999999, 0.0057485100000000001, 0.0059740000000000001, 0.0065005999999999996, 0.0073949599999999999, 0.0078621000000000003, 0.0078941900000000006, 0.0082033399999999999, 0.0100447]\n"
     ]
    }
   ],
   "source": [
    "print(list(a[19,:]))"
   ]
  },
  {
   "cell_type": "code",
   "execution_count": 33,
   "metadata": {
    "collapsed": false
   },
   "outputs": [],
   "source": [
    "freq1 = zip(words[19], list(a[19,:]))"
   ]
  },
  {
   "cell_type": "code",
   "execution_count": 34,
   "metadata": {
    "collapsed": false
   },
   "outputs": [
    {
     "data": {
      "text/plain": [
       "[(u'help', 0.0035838599999999999),\n",
       " (u'monitor', 0.0036122799999999998),\n",
       " (u'think', 0.0037710899999999999),\n",
       " (u'using', 0.0037914899999999998),\n",
       " (u'need', 0.0039718499999999999),\n",
       " (u'memory', 0.0040994400000000002),\n",
       " (u'time', 0.00419251),\n",
       " (u'mac', 0.0046121000000000001),\n",
       " (u'machine', 0.0051608399999999999),\n",
       " (u'driver', 0.0051923500000000001),\n",
       " (u'disk', 0.0057109400000000003),\n",
       " (u'thanks', 0.0057191899999999999),\n",
       " (u'work', 0.0057485100000000001),\n",
       " (u'use', 0.0059740000000000001),\n",
       " (u'like', 0.0065005999999999996),\n",
       " (u'window', 0.0073949599999999999),\n",
       " (u'know', 0.0078621000000000003),\n",
       " (u'card', 0.0078941900000000006),\n",
       " (u'problem', 0.0082033399999999999),\n",
       " (u'drive', 0.0100447)]"
      ]
     },
     "execution_count": 34,
     "metadata": {},
     "output_type": "execute_result"
    }
   ],
   "source": [
    "freq1"
   ]
  },
  {
   "cell_type": "code",
   "execution_count": 4,
   "metadata": {
    "collapsed": true
   },
   "outputs": [],
   "source": [
    "###\n",
    "# Top Words\n",
    "###"
   ]
  },
  {
   "cell_type": "code",
   "execution_count": 19,
   "metadata": {
    "collapsed": true
   },
   "outputs": [],
   "source": [
    "counts = pickle.load(open('data/counts.pkl', 'r'))\n",
    "vocab = pickle.load(open('data/vocab.pkl', 'r'))\n",
    "inv = dict((v, k) for k, v in vocab.iteritems())"
   ]
  },
  {
   "cell_type": "code",
   "execution_count": 14,
   "metadata": {
    "collapsed": false
   },
   "outputs": [],
   "source": [
    "word_counts = np.sum(counts.toarray(), axis=0)"
   ]
  },
  {
   "cell_type": "code",
   "execution_count": 15,
   "metadata": {
    "collapsed": true
   },
   "outputs": [],
   "source": [
    "top_20 = np.argsort(word_counts)[-20:]"
   ]
  },
  {
   "cell_type": "code",
   "execution_count": 16,
   "metadata": {
    "collapsed": false
   },
   "outputs": [
    {
     "data": {
      "text/plain": [
       "array([19993, 22959, 22775,  1577, 15333, 21247, 24491, 24196,  2987,\n",
       "       25415, 12081, 12683,  6116, 17925, 17982, 10375, 24173, 25238,\n",
       "        7697, 13559])"
      ]
     },
     "execution_count": 16,
     "metadata": {},
     "output_type": "execute_result"
    }
   ],
   "source": [
    "top_20"
   ]
  },
  {
   "cell_type": "code",
   "execution_count": 24,
   "metadata": {
    "collapsed": false
   },
   "outputs": [
    {
     "name": "stdout",
     "output_type": "stream",
     "text": [
      "[u'max',\n",
      " u'file',\n",
      " u'window',\n",
      " u'use',\n",
      " u'image',\n",
      " u'program',\n",
      " u'problem',\n",
      " u'drive',\n",
      " u'like',\n",
      " u'know',\n",
      " u'work',\n",
      " u'card',\n",
      " u'using',\n",
      " u'version',\n",
      " u'software',\n",
      " u'need',\n",
      " u'available',\n",
      " u'thanks',\n",
      " u'time',\n",
      " u'run']\n"
     ]
    }
   ],
   "source": [
    "pprint([inv[i] for i in reversed(top_20)])"
   ]
  },
  {
   "cell_type": "code",
   "execution_count": 25,
   "metadata": {
    "collapsed": true
   },
   "outputs": [],
   "source": [
    "###\n",
    "# Stan - LL\n",
    "###"
   ]
  },
  {
   "cell_type": "code",
   "execution_count": 27,
   "metadata": {
    "collapsed": true
   },
   "outputs": [],
   "source": [
    "all_stan = np.array(np.load('data/stan_ll.npz')['arr_0'] )"
   ]
  },
  {
   "cell_type": "code",
   "execution_count": 32,
   "metadata": {
    "collapsed": false
   },
   "outputs": [
    {
     "data": {
      "text/plain": [
       "[<matplotlib.lines.Line2D at 0x7fd89f3cc590>]"
      ]
     },
     "execution_count": 32,
     "metadata": {},
     "output_type": "execute_result"
    },
    {
     "data": {
      "image/png": "[encoded data removed]",
      "text/plain": [
       "<matplotlib.figure.Figure at 0x7fd89f443c50>"
      ]
     },
     "metadata": {},
     "output_type": "display_data"
    }
   ],
   "source": [
    "x = np.arange(all_stan.shape[0])\n",
    "plt.plot(x, all_stan, linestyle='-', color='m', label='Stan')"
   ]
  },
  {
   "cell_type": "code",
   "execution_count": 36,
   "metadata": {
    "collapsed": false
   },
   "outputs": [],
   "source": [
    "###\n",
    "# Stan - topics\n",
    "###"
   ]
  },
  {
   "cell_type": "code",
   "execution_count": 37,
   "metadata": {
    "collapsed": false
   },
   "outputs": [
    {
     "name": "stdout",
     "output_type": "stream",
     "text": [
      "(20, 27208)\n",
      "[[u'following',\n",
      "  u'menu',\n",
      "  u'bitmap',\n",
      "  u'extension',\n",
      "  u'application',\n",
      "  u'character',\n",
      "  u'copy',\n",
      "  u'environment',\n",
      "  u'free',\n",
      "  u'faq',\n",
      "  u'check',\n",
      "  u'data',\n",
      "  u'create',\n",
      "  u'command',\n",
      "  u'ftp',\n",
      "  u'ca',\n",
      "  u'change',\n",
      "  u'display',\n",
      "  u'code',\n",
      "  u'file'],\n",
      " [u'pl',\n",
      "  u'lj',\n",
      "  u'nriz',\n",
      "  u'nrhj',\n",
      "  u'fyn',\n",
      "  u'mq',\n",
      "  u'mn',\n",
      "  u'qq',\n",
      "  u'bj',\n",
      "  u'fij',\n",
      "  u'mw',\n",
      "  u'nuy',\n",
      "  u'lg',\n",
      "  u'mr',\n",
      "  u'ax',\n",
      "  u'ql',\n",
      "  u'qax',\n",
      "  u'gk',\n",
      "  u'giz',\n",
      "  u'max'],\n",
      " [u'draw',\n",
      "  u'based',\n",
      "  u'answer',\n",
      "  u'apps',\n",
      "  u'accelerator',\n",
      "  u'able',\n",
      "  u'far',\n",
      "  u'computer',\n",
      "  u'diamond',\n",
      "  u'actually',\n",
      "  u'address',\n",
      "  u'colour',\n",
      "  u'buy',\n",
      "  u'ati',\n",
      "  u'best',\n",
      "  u'believe',\n",
      "  u'chip',\n",
      "  u'bit',\n",
      "  u'color',\n",
      "  u'card'],\n",
      " [u'viewer',\n",
      "  u'software',\n",
      "  u'tiff',\n",
      "  u'bit',\n",
      "  u'pixel',\n",
      "  u'quality',\n",
      "  u'convert',\n",
      "  u'available',\n",
      "  u'free',\n",
      "  u'tool',\n",
      "  u'use',\n",
      "  u'display',\n",
      "  u'version',\n",
      "  u'gif',\n",
      "  u'color',\n",
      "  u'program',\n",
      "  u'file',\n",
      "  u'jpeg',\n",
      "  u'format',\n",
      "  u'image'],\n",
      " [u'directly',\n",
      "  u'allows',\n",
      "  u'difference',\n",
      "  u'fast',\n",
      "  u'copy',\n",
      "  u'following',\n",
      "  u'article',\n",
      "  u'able',\n",
      "  u'experience',\n",
      "  u'book',\n",
      "  u'called',\n",
      "  u'different',\n",
      "  u'board',\n",
      "  u'better',\n",
      "  u'access',\n",
      "  u'box',\n",
      "  u'graphic',\n",
      "  u'application',\n",
      "  u'come',\n",
      "  u'driver'],\n",
      " [u'response',\n",
      "  u'game',\n",
      "  u'information',\n",
      "  u'sorry',\n",
      "  u'page',\n",
      "  u'printing',\n",
      "  u'double',\n",
      "  u'product',\n",
      "  u'paper',\n",
      "  u'pro',\n",
      "  u'hp',\n",
      "  u'post',\n",
      "  u'nt',\n",
      "  u'print',\n",
      "  u'sound',\n",
      "  u'time',\n",
      "  u'printer',\n",
      "  u'group',\n",
      "  u'question',\n",
      "  u'thanks'],\n",
      " [u'edge',\n",
      "  u'provide',\n",
      "  u'fact',\n",
      "  u'given',\n",
      "  u'le',\n",
      "  u'new',\n",
      "  u'solution',\n",
      "  u'like',\n",
      "  u'similar',\n",
      "  u'email',\n",
      "  u'possible',\n",
      "  u'answer',\n",
      "  u'size',\n",
      "  u'number',\n",
      "  u'line',\n",
      "  u'need',\n",
      "  u'people',\n",
      "  u'point',\n",
      "  u'monitor',\n",
      "  u'problem'],\n",
      " [u'feature',\n",
      "  u'fan',\n",
      "  u'backup',\n",
      "  u'head',\n",
      "  u'got',\n",
      "  u'pin',\n",
      "  u'boot',\n",
      "  u'hd',\n",
      "  u'board',\n",
      "  u'cable',\n",
      "  u'connector',\n",
      "  u'jumper',\n",
      "  u'error',\n",
      "  u'bios',\n",
      "  u'floppy',\n",
      "  u'ide',\n",
      "  u'controller',\n",
      "  u'hard',\n",
      "  u'disk',\n",
      "  u'drive'],\n",
      " [u'connection',\n",
      "  u'control',\n",
      "  u'local',\n",
      "  u'irq',\n",
      "  u'ii',\n",
      "  u'machine',\n",
      "  u'connect',\n",
      "  u'lc',\n",
      "  u'standard',\n",
      "  u'plus',\n",
      "  u'ethernet',\n",
      "  u'rate',\n",
      "  u'hardware',\n",
      "  u'price',\n",
      "  u'software',\n",
      "  u'modem',\n",
      "  u'ca',\n",
      "  u'apple',\n",
      "  u'pc',\n",
      "  u'mac'],\n",
      " [u'memory',\n",
      "  u'try',\n",
      "  u'thing',\n",
      "  u'vga',\n",
      "  u'program',\n",
      "  u'version',\n",
      "  u'font',\n",
      "  u'work',\n",
      "  u'running',\n",
      "  u'mouse',\n",
      "  u'used',\n",
      "  u'screen',\n",
      "  u'mode',\n",
      "  u'support',\n",
      "  u'want',\n",
      "  u'run',\n",
      "  u'time',\n",
      "  u'using',\n",
      "  u'use',\n",
      "  u'window'],\n",
      " [u'machine',\n",
      "  u'duo',\n",
      "  u'able',\n",
      "  u'course',\n",
      "  u'appreciate',\n",
      "  u'info',\n",
      "  u'greatly',\n",
      "  u'ha',\n",
      "  u'company',\n",
      "  u'getting',\n",
      "  u'hello',\n",
      "  u'email',\n",
      "  u'fine',\n",
      "  u'anybody',\n",
      "  u'appreciated',\n",
      "  u'hi',\n",
      "  u'computer',\n",
      "  u'advance',\n",
      "  u'doe',\n",
      "  u'help'],\n",
      " [u'stuff',\n",
      "  u'run',\n",
      "  u'computer',\n",
      "  u'address',\n",
      "  u'internet',\n",
      "  u'object',\n",
      "  u'software',\n",
      "  u'message',\n",
      "  u'info',\n",
      "  u'phone',\n",
      "  u'package',\n",
      "  u'ftp',\n",
      "  u'directory',\n",
      "  u'list',\n",
      "  u'available',\n",
      "  u'information',\n",
      "  u'graphic',\n",
      "  u'site',\n",
      "  u'send',\n",
      "  u'mail'],\n",
      " [u'include',\n",
      "  u'sgi',\n",
      "  u'contact',\n",
      "  u'platform',\n",
      "  u'used',\n",
      "  u'feature',\n",
      "  u'ibm',\n",
      "  u'unix',\n",
      "  u'graphic',\n",
      "  u'set',\n",
      "  u'research',\n",
      "  u'available',\n",
      "  u'university',\n",
      "  u'support',\n",
      "  u'package',\n",
      "  u'fax',\n",
      "  u'image',\n",
      "  u'user',\n",
      "  u'software',\n",
      "  u'data'],\n",
      " [u'error',\n",
      "  u'set',\n",
      "  u'build',\n",
      "  u'read',\n",
      "  u'define',\n",
      "  u'char',\n",
      "  u'rule',\n",
      "  u'function',\n",
      "  u'include',\n",
      "  u'section',\n",
      "  u'int',\n",
      "  u'return',\n",
      "  u'write',\n",
      "  u'line',\n",
      "  u'year',\n",
      "  u'use',\n",
      "  u'output',\n",
      "  u'program',\n",
      "  u'entry',\n",
      "  u'file'],\n",
      " [u'meg',\n",
      "  u'isa',\n",
      "  u'data',\n",
      "  u'tape',\n",
      "  u'cache',\n",
      "  u'read',\n",
      "  u'device',\n",
      "  u'faster',\n",
      "  u'motherboard',\n",
      "  u'clock',\n",
      "  u'mhz',\n",
      "  u'performance',\n",
      "  u'memory',\n",
      "  u'power',\n",
      "  u'machine',\n",
      "  u'bus',\n",
      "  u'cpu',\n",
      "  u'ram',\n",
      "  u'speed',\n",
      "  u'scsi'],\n",
      " [u'gateway',\n",
      "  u'new',\n",
      "  u'ago',\n",
      "  u'day',\n",
      "  u'really',\n",
      "  u'let',\n",
      "  u'interested',\n",
      "  u'idea',\n",
      "  u'pretty',\n",
      "  u'great',\n",
      "  u'heard',\n",
      "  u'hope',\n",
      "  u'little',\n",
      "  u'look',\n",
      "  u'going',\n",
      "  u'got',\n",
      "  u'looking',\n",
      "  u'good',\n",
      "  u'like',\n",
      "  u'know'],\n",
      " [u'level',\n",
      "  u'maybe',\n",
      "  u'cursor',\n",
      "  u'kind',\n",
      "  u'fixed',\n",
      "  u'linux',\n",
      "  u'frame',\n",
      "  u'local',\n",
      "  u'quite',\n",
      "  u'desktop',\n",
      "  u'just',\n",
      "  u'nice',\n",
      "  u'keyboard',\n",
      "  u'lot',\n",
      "  u'mean',\n",
      "  u'know',\n",
      "  u'like',\n",
      "  u'new',\n",
      "  u'make',\n",
      "  u'need'],\n",
      " [u'week',\n",
      "  u'seen',\n",
      "  u'serial',\n",
      "  u'word',\n",
      "  u'said',\n",
      "  u'probably',\n",
      "  u'really',\n",
      "  u'right',\n",
      "  u'trying',\n",
      "  u'tried',\n",
      "  u'thanks',\n",
      "  u'port',\n",
      "  u'tell',\n",
      "  u'thing',\n",
      "  u'say',\n",
      "  u'way',\n",
      "  u'video',\n",
      "  u'think',\n",
      "  u'work',\n",
      "  u'problem'],\n",
      " [u'font',\n",
      "  u'library',\n",
      "  u'key',\n",
      "  u'xterm',\n",
      "  u'user',\n",
      "  u'program',\n",
      "  u'using',\n",
      "  u'set',\n",
      "  u'use',\n",
      "  u'subject',\n",
      "  u'sun',\n",
      "  u'available',\n",
      "  u'client',\n",
      "  u'motif',\n",
      "  u'version',\n",
      "  u'application',\n",
      "  u'resource',\n",
      "  u'window',\n",
      "  u'widget',\n",
      "  u'server'],\n",
      " [u'qy',\n",
      "  u'mu',\n",
      "  u'mq',\n",
      "  u'mx',\n",
      "  u'sq',\n",
      "  u'hz',\n",
      "  u'ma',\n",
      "  u'mk',\n",
      "  u'ahf',\n",
      "  u'mo',\n",
      "  u'mb',\n",
      "  u'mm',\n",
      "  u'tm',\n",
      "  u'md',\n",
      "  u'mj',\n",
      "  u'mv',\n",
      "  u'air',\n",
      "  u'yes',\n",
      "  u'wm',\n",
      "  u'ah']]\n"
     ]
    }
   ],
   "source": [
    "phi = np.load('data/stan_phi.npz')['arr_0']\n",
    "phi = np.array(phi)\n",
    "print phi.shape\n",
    "\n",
    "vocab = pickle.load(open('data/vocab.pkl', 'r'))\n",
    "inv = dict((v, k) for k, v in vocab.iteritems())\n",
    "\n",
    "axis = 1\n",
    "index = list(np.ix_(*[np.arange(i) for i in phi.shape]))\n",
    "index[axis] = phi.argsort(axis)\n",
    "a = phi[index][:,-20:]\n",
    "counts = np.rint(a/np.sum(a, axis=1).reshape(-1,1)*1000).tolist()\n",
    "idx_l = index[axis][:,-20:].tolist()\n",
    "words = [[inv[i] for i in subl] for subl in idx_l]\n",
    "pprint(words)"
   ]
  },
  {
   "cell_type": "code",
   "execution_count": null,
   "metadata": {
    "collapsed": true
   },
   "outputs": [],
   "source": []
  }
 ],
 "metadata": {
  "kernelspec": {
   "display_name": "Python 2",
   "language": "python2",
   "name": "python2"
  },
  "language_info": {
   "codemirror_mode": {
    "name": "ipython",
    "version": 2
   },
   "file_extension": ".py",
   "mimetype": "text/x-python",
   "name": "python",
   "nbconvert_exporter": "python",
   "pygments_lexer": "ipython2",
   "version": "2.7.10"
  }
 },
 "nbformat": 4,
 "nbformat_minor": 0
}
