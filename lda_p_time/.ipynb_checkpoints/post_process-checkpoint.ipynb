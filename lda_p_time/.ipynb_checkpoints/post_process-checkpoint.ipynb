{
 "cells": [
  {
   "cell_type": "code",
   "execution_count": 1,
   "metadata": {
    "collapsed": true
   },
   "outputs": [],
   "source": [
    "import numpy as np\n",
    "import matplotlib.pyplot as plt\n",
    "import pickle\n",
    "from scipy import stats\n",
    "%matplotlib inline"
   ]
  },
  {
   "cell_type": "code",
   "execution_count": 2,
   "metadata": {
    "collapsed": false
   },
   "outputs": [],
   "source": [
    "times, metrics = pickle.load(open('data/run_result.pkl', 'r'))"
   ]
  },
  {
   "cell_type": "code",
   "execution_count": 3,
   "metadata": {
    "collapsed": false
   },
   "outputs": [
    {
     "name": "stdout",
     "output_type": "stream",
     "text": [
      "seed, method, iter\n",
      "(10, 5, 5)\n",
      "(10, 5, 5)\n"
     ]
    }
   ],
   "source": [
    "times = np.array(times)\n",
    "metrics = np.array(metrics)\n",
    "print 'seed, method, iter'\n",
    "print times.shape\n",
    "print metrics.shape"
   ]
  },
  {
   "cell_type": "code",
   "execution_count": 4,
   "metadata": {
    "collapsed": true
   },
   "outputs": [],
   "source": [
    "labels = ['pb', 'stan', 'prism', 'tm-gibbs', 'tm-vem']"
   ]
  },
  {
   "cell_type": "code",
   "execution_count": 5,
   "metadata": {
    "collapsed": true
   },
   "outputs": [],
   "source": [
    "times_metrics = {labels[i]:(times[:,i,:], metrics[:,i,:]) for i in range(5)}"
   ]
  },
  {
   "cell_type": "code",
   "execution_count": 6,
   "metadata": {
    "collapsed": false
   },
   "outputs": [
    {
     "data": {
      "text/plain": [
       "(10, 5)"
      ]
     },
     "execution_count": 6,
     "metadata": {},
     "output_type": "execute_result"
    }
   ],
   "source": [
    "times_metrics['pb'][0].shape"
   ]
  },
  {
   "cell_type": "code",
   "execution_count": 7,
   "metadata": {
    "collapsed": false
   },
   "outputs": [
    {
     "name": "stdout",
     "output_type": "stream",
     "text": [
      "pb\n",
      "[  16.9889313    25.93386148   35.11316225   44.48059322  190.45899516]\n",
      "[ 0.72989594  0.95744095  1.39826871  1.84298937  9.08592767]\n",
      "[ 24.80254157  24.29698553  23.88196712  23.55611522  22.19136306]\n",
      "[ 0.05480538  0.07385655  0.07654158  0.07716148  0.04631052]\n",
      "stan\n",
      "[  63.25764884   63.9141014    64.52990539   65.30791031  443.42265173]\n",
      "[  2.26419168   2.23951725   2.30491186   2.46839781  37.85503043]\n",
      "[ 26.37663607  26.37663607  26.37663607  26.37663607  22.60287509]\n",
      "[ 0.62434377  0.62434377  0.62434377  0.62434377  0.0324556 ]\n",
      "prism\n",
      "[ 2.76928722  2.94329615  3.09202623  3.24756438  5.98553388]\n",
      "[ 0.15200604  0.1761801   0.14806075  0.15947425  0.38413645]\n",
      "[ 24.99762173  24.96110741  24.02612685  22.64161197  21.95231308]\n",
      "[ 0.00012477  0.00535548  0.10833844  0.10567827  0.08408087]\n",
      "tm-gibbs\n",
      "[ 0.62733441  0.748677    0.86694145  0.99133853  2.90123597]\n",
      "[ 0.03063926  0.03035266  0.03383741  0.05768986  0.1992209 ]\n",
      "[ 24.32895515  23.04535144  22.59911659  22.40155282  22.18729366]\n",
      "[ 0.06226859  0.07088891  0.06346371  0.05796896  0.0194148 ]\n",
      "tm-vem\n",
      "[ 3.32036674  4.10300022  4.73459099  5.18054685  5.19387703]\n",
      "[ 0.18079745  0.1743408   0.1597926   0.20364341  0.21449343]\n",
      "[ 24.73387386  24.87976065  24.92040422  24.93506899  24.93506899]\n",
      "[ 0.08105943  0.04200893  0.02886513  0.02299163  0.02299163]\n"
     ]
    }
   ],
   "source": [
    "for k,v in times_metrics.iteritems():\n",
    "    print k\n",
    "    print np.average(v[0], axis=0)\n",
    "    print np.std(v[0], axis=0)\n",
    "    print np.average(v[1], axis=0)\n",
    "    print np.std(v[1], axis=0)"
   ]
  },
  {
   "cell_type": "code",
   "execution_count": 10,
   "metadata": {
    "collapsed": false
   },
   "outputs": [
    {
     "data": {
      "image/png": "[encoded data removed]",
      "text/plain": [
       "<matplotlib.figure.Figure at 0x7fc89de2cd50>"
      ]
     },
     "metadata": {},
     "output_type": "display_data"
    }
   ],
   "source": [
    "plt.xlabel('Time')\n",
    "plt.ylabel('Metric')\n",
    "plt.grid()\n",
    "colors = ['r', 'g', 'b', 'y', 'm']\n",
    "for c, (k,v) in zip(colors, times_metrics.iteritems()):\n",
    "    x = np.average(v[0], axis=0)\n",
    "    #print x.shape\n",
    "    y = np.average(v[1], axis=0)\n",
    "    y_err = stats.sem(v[1])\n",
    "    #print y_err.shape\n",
    "    plt.semilogx(x, y, color=c, label=k, marker='o')\n",
    "    \n",
    "    #plt.fill_between(x, y-y_err, y+y_err, color=c, alpha=0.3)\n",
    "lgd = plt.legend(ncol=3, bbox_to_anchor=(1, 1.25))\n",
    "plt.savefig('data/lls.pdf', format='pdf', bbox_extra_artists=(lgd,), bbox_inches='tight')"
   ]
  },
  {
   "cell_type": "code",
   "execution_count": null,
   "metadata": {
    "collapsed": true
   },
   "outputs": [],
   "source": []
  }
 ],
 "metadata": {
  "kernelspec": {
   "display_name": "Python 2",
   "language": "python2",
   "name": "python2"
  },
  "language_info": {
   "codemirror_mode": {
    "name": "ipython",
    "version": 2
   },
   "file_extension": ".py",
   "mimetype": "text/x-python",
   "name": "python",
   "nbconvert_exporter": "python",
   "pygments_lexer": "ipython2",
   "version": "2.7.10"
  }
 },
 "nbformat": 4,
 "nbformat_minor": 0
}
