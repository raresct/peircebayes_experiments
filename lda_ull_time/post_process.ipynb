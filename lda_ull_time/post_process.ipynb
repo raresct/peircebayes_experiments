{
 "cells": [
  {
   "cell_type": "code",
   "execution_count": 1,
   "metadata": {
    "collapsed": true
   },
   "outputs": [],
   "source": [
    "import numpy as np\n",
    "import matplotlib.pyplot as plt\n",
    "import pickle\n",
    "from scipy import stats\n",
    "%matplotlib inline"
   ]
  },
  {
   "cell_type": "code",
   "execution_count": 2,
   "metadata": {
    "collapsed": false
   },
   "outputs": [],
   "source": [
    "times, metrics = pickle.load(open('data/run_result.pkl', 'r'))"
   ]
  },
  {
   "cell_type": "code",
   "execution_count": 3,
   "metadata": {
    "collapsed": false
   },
   "outputs": [
    {
     "name": "stdout",
     "output_type": "stream",
     "text": [
      "seed, method, iter\n",
      "(10, 5, 4)\n",
      "(10, 5, 4)\n"
     ]
    }
   ],
   "source": [
    "times = np.array(times)\n",
    "metrics = np.array(metrics)\n",
    "print 'seed, method, iter'\n",
    "print times.shape\n",
    "print metrics.shape"
   ]
  },
  {
   "cell_type": "code",
   "execution_count": 4,
   "metadata": {
    "collapsed": true
   },
   "outputs": [],
   "source": [
    "labels = ['pb', 'stan', 'prism', 'tm-gibbs', 'tm-vem']"
   ]
  },
  {
   "cell_type": "code",
   "execution_count": 5,
   "metadata": {
    "collapsed": true
   },
   "outputs": [],
   "source": [
    "times_metrics = {labels[i]:(times[:,i,:], metrics[:,i,:]) for i in range(5)}"
   ]
  },
  {
   "cell_type": "code",
   "execution_count": 6,
   "metadata": {
    "collapsed": false
   },
   "outputs": [
    {
     "data": {
      "text/plain": [
       "(10, 4)"
      ]
     },
     "execution_count": 6,
     "metadata": {},
     "output_type": "execute_result"
    }
   ],
   "source": [
    "times_metrics['pb'][0].shape"
   ]
  },
  {
   "cell_type": "code",
   "execution_count": 7,
   "metadata": {
    "collapsed": false
   },
   "outputs": [
    {
     "name": "stdout",
     "output_type": "stream",
     "text": [
      "pb\n",
      "[  55.3949528    99.59045718  147.4241343   194.97167165]\n",
      "[ 2.55496199  0.73312099  3.31214787  3.60574915]\n",
      "[-311529.87637914 -307830.26786278 -306174.63000468 -305220.71730092]\n",
      "[ 553.02771989  643.71074695  621.78005349  542.95283981]\n",
      "stan\n",
      "[  61.96145494  115.51616213  240.32856827  599.09722102]\n",
      "[   0.54563903   39.28065515  115.86720152  144.80655547]\n",
      "[-330378.98218853 -318436.97484736 -308026.44170665 -304742.23338447]\n",
      "[ 1967.68730607  3882.21615005  1818.48449919   267.03913119]\n",
      "prism\n",
      "[ 3.36979642  4.16933935  5.04007308  5.9056684 ]\n",
      "[ 0.11105355  0.0955837   0.14735313  0.11543971]\n",
      "[-304229.63059772 -301718.64004055 -301456.31886513 -301298.71684641]\n",
      "[ 742.2690151   327.25853622  262.12396196  253.59758681]\n",
      "tm-gibbs\n",
      "[ 1.22992082  1.95140474  2.6710741   3.3863431 ]\n",
      "[ 0.00360608  0.00645611  0.0110305   0.00923172]\n",
      "[-304370.02418806 -303292.33267326 -303227.27653716 -303245.00537465]\n",
      "[ 716.0849929   119.43274716   47.73122248   49.2727003 ]\n",
      "tm-vem\n",
      "[  7.3280895    8.9202924   10.74286478  12.74351113]\n",
      "[ 1.24831906  2.50047395  3.92975903  5.54898227]\n",
      "[-316868.3431353  -314592.66117887 -312413.66920771 -311367.58175129]\n",
      "[ 5185.11367273  6463.34112368  7298.56660516  7956.54643959]\n"
     ]
    }
   ],
   "source": [
    "for k,v in times_metrics.iteritems():\n",
    "    print k\n",
    "    print np.average(v[0], axis=0)\n",
    "    print np.std(v[0], axis=0)\n",
    "    print np.average(v[1], axis=0)\n",
    "    print np.std(v[1], axis=0)"
   ]
  },
  {
   "cell_type": "code",
   "execution_count": 9,
   "metadata": {
    "collapsed": false
   },
   "outputs": [
    {
     "data": {
      "image/png": "[encoded data removed]",
      "text/plain": [
       "<matplotlib.figure.Figure at 0x7f973daa3ad0>"
      ]
     },
     "metadata": {},
     "output_type": "display_data"
    }
   ],
   "source": [
    "plt.xlabel('Time')\n",
    "plt.ylabel('Log Likelihood')\n",
    "plt.grid()\n",
    "colors = ['r', 'g', 'b', 'y', 'm']\n",
    "for c, (k,v) in zip(colors, times_metrics.iteritems()):\n",
    "    x = np.average(v[0], axis=0)\n",
    "    #print x.shape\n",
    "    y = np.average(v[1], axis=0)\n",
    "    y_err = stats.sem(v[1])\n",
    "    #print y_err.shape\n",
    "    #plt.semilogx(x, y, color=c, label=k, marker='o')\n",
    "    #plt.fill_between(x, y-y_err, y+y_err, color=c, alpha=0.3)\n",
    "    plt.errorbar(x,y, yerr = y_err, color=c, label=k, marker='o')\n",
    "    plt.xscale(\"log\")\n",
    "lgd = plt.legend(ncol=3, bbox_to_anchor=(1, 1.25))\n",
    "plt.savefig('data/lls.pdf', format='pdf', bbox_extra_artists=(lgd,), bbox_inches='tight')"
   ]
  },
  {
   "cell_type": "code",
   "execution_count": null,
   "metadata": {
    "collapsed": true
   },
   "outputs": [],
   "source": []
  }
 ],
 "metadata": {
  "kernelspec": {
   "display_name": "Python 2",
   "language": "python2",
   "name": "python2"
  },
  "language_info": {
   "codemirror_mode": {
    "name": "ipython",
    "version": 2
   },
   "file_extension": ".py",
   "mimetype": "text/x-python",
   "name": "python",
   "nbconvert_exporter": "python",
   "pygments_lexer": "ipython2",
   "version": "2.7.10"
  }
 },
 "nbformat": 4,
 "nbformat_minor": 0
}
