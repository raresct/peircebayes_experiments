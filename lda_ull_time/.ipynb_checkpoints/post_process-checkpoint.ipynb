{
 "cells": [
  {
   "cell_type": "code",
   "execution_count": 1,
   "metadata": {
    "collapsed": true
   },
   "outputs": [],
   "source": [
    "import numpy as np\n",
    "import matplotlib.pyplot as plt\n",
    "import pickle\n",
    "from scipy import stats\n",
    "%matplotlib inline"
   ]
  },
  {
   "cell_type": "code",
   "execution_count": 2,
   "metadata": {
    "collapsed": false
   },
   "outputs": [],
   "source": [
    "times, metrics = pickle.load(open('data/run_result.pkl', 'r'))"
   ]
  },
  {
   "cell_type": "code",
   "execution_count": 3,
   "metadata": {
    "collapsed": false
   },
   "outputs": [
    {
     "name": "stdout",
     "output_type": "stream",
     "text": [
      "seed, method, iter\n",
      "(10, 5, 4)\n",
      "(10, 5, 4)\n"
     ]
    }
   ],
   "source": [
    "times = np.array(times)\n",
    "metrics = np.array(metrics)\n",
    "print 'seed, method, iter'\n",
    "print times.shape\n",
    "print metrics.shape"
   ]
  },
  {
   "cell_type": "code",
   "execution_count": 4,
   "metadata": {
    "collapsed": true
   },
   "outputs": [],
   "source": [
    "labels = ['pb', 'stan', 'prism', 'tm-gibbs', 'tm-vem']"
   ]
  },
  {
   "cell_type": "code",
   "execution_count": 5,
   "metadata": {
    "collapsed": true
   },
   "outputs": [],
   "source": [
    "times_metrics = {labels[i]:(times[:,i,:], metrics[:,i,:]) for i in range(5)}"
   ]
  },
  {
   "cell_type": "code",
   "execution_count": 6,
   "metadata": {
    "collapsed": false
   },
   "outputs": [
    {
     "data": {
      "text/plain": [
       "(10, 4)"
      ]
     },
     "execution_count": 6,
     "metadata": {},
     "output_type": "execute_result"
    }
   ],
   "source": [
    "times_metrics['pb'][0].shape"
   ]
  },
  {
   "cell_type": "code",
   "execution_count": 7,
   "metadata": {
    "collapsed": false
   },
   "outputs": [
    {
     "name": "stdout",
     "output_type": "stream",
     "text": [
      "pb\n",
      "[  52.01959171   97.15694284  143.56071951  187.02836404]\n",
      "[  4.80495908  10.00274522  15.78092409  18.77678751]\n",
      "[-311529.87637914 -307830.26786278 -306174.63000468 -305220.71730092]\n",
      "[ 553.02771989  643.71074695  621.78005349  542.95283981]\n",
      "stan\n",
      "[   61.19455874   113.90333848   229.92697508  3497.79345891]\n",
      "[  6.25521907e+00   4.59208016e+01   1.16604744e+02   8.78215998e+03]\n",
      "[-330378.98218853 -318436.97484736 -308026.44170665 -304742.23338447]\n",
      "[ 1967.68730607  3882.21615005  1818.48449919   267.03913119]\n",
      "prism\n",
      "[ 3.50356288  4.4122293   5.29871142  6.23059678]\n",
      "[ 0.22405484  0.25552404  0.34642972  0.37913682]\n",
      "[-332934.07216335 -337625.89097528 -337983.83086201 -338059.14339828]\n",
      "[ 1067.79495185   746.47889833   733.0883888    609.76272181]\n",
      "tm-gibbs\n",
      "[ 1.22121928  1.9247349   2.6149302   3.30330737]\n",
      "[ 0.09459142  0.16238467  0.21947316  0.26972345]\n",
      "[-304370.02418806 -303292.33267326 -303227.27653716 -303245.00537465]\n",
      "[ 716.0849929   119.43274716   47.73122248   49.2727003 ]\n",
      "tm-vem\n",
      "[  7.09014602   8.71928275  10.34521072  12.08835156]\n",
      "[ 1.3213518   2.63033821  3.94052395  5.20389964]\n",
      "[-316868.3431353  -314592.66117887 -312413.66920771 -311367.58175129]\n",
      "[ 5185.11367273  6463.34112368  7298.56660516  7956.54643959]\n"
     ]
    }
   ],
   "source": [
    "for k,v in times_metrics.iteritems():\n",
    "    print k\n",
    "    print np.average(v[0], axis=0)\n",
    "    print np.std(v[0], axis=0)\n",
    "    print np.average(v[1], axis=0)\n",
    "    print np.std(v[1], axis=0)"
   ]
  },
  {
   "cell_type": "code",
   "execution_count": 8,
   "metadata": {
    "collapsed": false
   },
   "outputs": [
    {
     "data": {
      "image/png": "[encoded data removed]",
      "text/plain": [
       "<matplotlib.figure.Figure at 0x7f30b3e06150>"
      ]
     },
     "metadata": {},
     "output_type": "display_data"
    }
   ],
   "source": [
    "plt.xlabel('Time')\n",
    "plt.ylabel('Metric')\n",
    "colors = ['r', 'g', 'b', 'y', 'm']\n",
    "for c, (k,v) in zip(colors, times_metrics.iteritems()):\n",
    "    x = np.average(v[0], axis=0)\n",
    "    #print x.shape\n",
    "    y = np.average(v[1], axis=0)\n",
    "    y_err = stats.sem(v[1])\n",
    "    #print y_err.shape\n",
    "    plt.semilogx(x, y, color=c, label=k, marker='o')\n",
    "    plt.fill_between(x, y-y_err, y+y_err, color=c, alpha=0.3)\n",
    "lgd = plt.legend(ncol=3, bbox_to_anchor=(1, 1.25))\n",
    "plt.savefig('data/lls.pdf', format='pdf', bbox_extra_artists=(lgd,), bbox_inches='tight')"
   ]
  },
  {
   "cell_type": "code",
   "execution_count": null,
   "metadata": {
    "collapsed": true
   },
   "outputs": [],
   "source": []
  }
 ],
 "metadata": {
  "kernelspec": {
   "display_name": "Python 2",
   "language": "python2",
   "name": "python2"
  },
  "language_info": {
   "codemirror_mode": {
    "name": "ipython",
    "version": 2
   },
   "file_extension": ".py",
   "mimetype": "text/x-python",
   "name": "python",
   "nbconvert_exporter": "python",
   "pygments_lexer": "ipython2",
   "version": "2.7.10"
  }
 },
 "nbformat": 4,
 "nbformat_minor": 0
}
